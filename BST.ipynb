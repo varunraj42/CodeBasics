{
  "nbformat": 4,
  "nbformat_minor": 0,
  "metadata": {
    "colab": {
      "name": "BST.ipynb",
      "provenance": [],
      "authorship_tag": "ABX9TyMVv/fk3Fxu3dvcqwNrKDf5",
      "include_colab_link": true
    },
    "kernelspec": {
      "name": "python3",
      "display_name": "Python 3"
    },
    "language_info": {
      "name": "python"
    }
  },
  "cells": [
    {
      "cell_type": "markdown",
      "metadata": {
        "id": "view-in-github",
        "colab_type": "text"
      },
      "source": [
        "<a href=\"https://colab.research.google.com/github/varunraj42/CodeBasics/blob/DataStructures/BST.ipynb\" target=\"_parent\"><img src=\"https://colab.research.google.com/assets/colab-badge.svg\" alt=\"Open In Colab\"/></a>"
      ]
    },
    {
      "cell_type": "code",
      "execution_count": null,
      "metadata": {
        "id": "UrkREKaVN1Xr"
      },
      "outputs": [],
      "source": [
        "class BST():\n",
        "  def __init__(self, data):\n",
        "    self.data = data\n",
        "    self.left = None\n",
        "    self.right = None\n",
        "\n",
        "  def addNode(self, node):\n",
        "    root_node = self\n",
        "    data = node.data\n",
        "\n",
        "    if node.data < self.data:\n",
        "      if self.left:\n",
        "        self.left.addNode(node)\n",
        "      else:\n",
        "        self.left = node\n",
        "\n",
        "    elif node.data > self.data:\n",
        "      if self.right:\n",
        "        self.right.addNode(node)\n",
        "      else:\n",
        "        self.right = node\n",
        "    \n",
        "\n",
        "  def InOrder(self):\n",
        "    elements =[]\n",
        "    if self.left:\n",
        "      elements += self.left.InOrder()\n",
        "    \n",
        "    elements.append(self.data)\n",
        "\n",
        "    if self.right:\n",
        "      elements += self.right.InOrder()\n",
        "\n",
        "    return elements\n",
        "\n",
        "\n",
        "  def PreOrder(self):\n",
        "    elements = [self.data]    \n",
        "\n",
        "    if self.left:\n",
        "      elements += self.left.PreOrder()        \n",
        "\n",
        "    if self.right:\n",
        "      elements += self.right.PreOrder()    \n",
        "\n",
        "    return elements\n",
        "    \n",
        "\n",
        "  def PostOrder(self):\n",
        "    elements =[]    \n",
        "    \n",
        "    if self.left:\n",
        "      elements += self.left.PreOrder()        \n",
        "\n",
        "    if self.right:\n",
        "      elements += self.right.PreOrder()    \n",
        "\n",
        "    elements.append(self.data)\n",
        "\n",
        "    return elements\n",
        "    \n",
        "\n",
        "  def searchNode(self, data):\n",
        "    if self.data == data:\n",
        "      return \"Found\"\n",
        "\n",
        "    elif self.data > data:\n",
        "      if self.left:\n",
        "        return self.left.searchNode(data)\n",
        "        \n",
        "    elif self.data < data:\n",
        "      if self.right:\n",
        "        return self.right.searchNode(data)\n",
        "\n",
        "    return \"Not Found\"\n",
        "        "
      ]
    },
    {
      "cell_type": "code",
      "source": [
        "tree = BST(10)"
      ],
      "metadata": {
        "id": "B0tEoWRNOD_C"
      },
      "execution_count": null,
      "outputs": []
    },
    {
      "cell_type": "code",
      "source": [
        "tree.addNode(BST(9))\n",
        "tree.addNode(BST(11))\n",
        "tree.addNode(BST(8))\n",
        "tree.addNode(BST(12))\n",
        "tree.addNode(BST(21))\n",
        "tree.addNode(BST(14))\n",
        "tree.addNode(BST(7))"
      ],
      "metadata": {
        "id": "vOK7wIhwPpPk"
      },
      "execution_count": null,
      "outputs": []
    },
    {
      "cell_type": "code",
      "source": [
        "tree.deleteNode(21)"
      ],
      "metadata": {
        "colab": {
          "base_uri": "https://localhost:8080/"
        },
        "id": "T7ZqEzjBiXIt",
        "outputId": "6e08d13e-90ad-4af2-c5ff-f1333875e4bb"
      },
      "execution_count": null,
      "outputs": [
        {
          "output_type": "stream",
          "name": "stdout",
          "text": [
            "Total children: 1\n"
          ]
        }
      ]
    },
    {
      "cell_type": "code",
      "source": [
        "tree.InOrder()"
      ],
      "metadata": {
        "colab": {
          "base_uri": "https://localhost:8080/"
        },
        "id": "0F0yhXGo2Ii6",
        "outputId": "6d383496-9807-4596-f7aa-40d42b1ba2f7"
      },
      "execution_count": null,
      "outputs": [
        {
          "output_type": "execute_result",
          "data": {
            "text/plain": [
              "[7, 8, 9, 10, 11, 12, 14, 21]"
            ]
          },
          "metadata": {},
          "execution_count": 229
        }
      ]
    },
    {
      "cell_type": "code",
      "source": [
        "tree.PreOrder()"
      ],
      "metadata": {
        "colab": {
          "base_uri": "https://localhost:8080/"
        },
        "id": "XPd_cxY6OZ6Y",
        "outputId": "4be206f2-e796-4203-abc1-08b54c4a5664"
      },
      "execution_count": null,
      "outputs": [
        {
          "output_type": "execute_result",
          "data": {
            "text/plain": [
              "[10, 9, 8, 7, 11, 12, 21, 14]"
            ]
          },
          "metadata": {},
          "execution_count": 230
        }
      ]
    },
    {
      "cell_type": "code",
      "source": [
        "tree.PostOrder()"
      ],
      "metadata": {
        "colab": {
          "base_uri": "https://localhost:8080/"
        },
        "id": "v-yauVP9duy2",
        "outputId": "05fbbf9e-9d95-4d21-d192-942e2b175456"
      },
      "execution_count": null,
      "outputs": [
        {
          "output_type": "execute_result",
          "data": {
            "text/plain": [
              "[9, 8, 7, 11, 12, 21, 14, 10]"
            ]
          },
          "metadata": {},
          "execution_count": 231
        }
      ]
    },
    {
      "cell_type": "code",
      "source": [
        "print(f\"Minimum value in the tree is {tree.InOrder()[0]}\")"
      ],
      "metadata": {
        "colab": {
          "base_uri": "https://localhost:8080/"
        },
        "id": "uqMMDuqg9MmB",
        "outputId": "cb360b4c-8739-4ba0-99e9-7966ca6c4bef"
      },
      "execution_count": null,
      "outputs": [
        {
          "output_type": "stream",
          "name": "stdout",
          "text": [
            "Minimum value in the tree is 7\n"
          ]
        }
      ]
    },
    {
      "cell_type": "code",
      "source": [
        "print(f\"Maximum value in the tree is {tree.InOrder()[-1]}\")"
      ],
      "metadata": {
        "colab": {
          "base_uri": "https://localhost:8080/"
        },
        "id": "xxdieFF6__05",
        "outputId": "88754325-a300-4d87-97a2-028ab4d950b5"
      },
      "execution_count": null,
      "outputs": [
        {
          "output_type": "stream",
          "name": "stdout",
          "text": [
            "Maximum value in the tree is 21\n"
          ]
        }
      ]
    },
    {
      "cell_type": "code",
      "source": [
        "print(f\"Sum of all the values in the tree is {sum(tree.InOrder())}\")"
      ],
      "metadata": {
        "colab": {
          "base_uri": "https://localhost:8080/"
        },
        "id": "YJDMOwkMOC4W",
        "outputId": "dc6cf800-a9a5-4d8b-a7fa-cac2f3575cf1"
      },
      "execution_count": null,
      "outputs": [
        {
          "output_type": "stream",
          "name": "stdout",
          "text": [
            "Sum of all the values in the tree is 92\n"
          ]
        }
      ]
    },
    {
      "cell_type": "code",
      "source": [
        ""
      ],
      "metadata": {
        "id": "SaYsVfCFOIdh"
      },
      "execution_count": null,
      "outputs": []
    }
  ]
}