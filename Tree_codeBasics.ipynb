{
  "nbformat": 4,
  "nbformat_minor": 0,
  "metadata": {
    "colab": {
      "name": "Tree_codeBasics.ipynb",
      "provenance": [],
      "authorship_tag": "ABX9TyNZcsKhzr1/dgMNFqkNlFEo",
      "include_colab_link": true
    },
    "kernelspec": {
      "name": "python3",
      "display_name": "Python 3"
    },
    "language_info": {
      "name": "python"
    }
  },
  "cells": [
    {
      "cell_type": "markdown",
      "metadata": {
        "id": "view-in-github",
        "colab_type": "text"
      },
      "source": [
        "<a href=\"https://colab.research.google.com/github/varunraj42/CodeBasics/blob/DataStructures/Tree_codeBasics.ipynb\" target=\"_parent\"><img src=\"https://colab.research.google.com/assets/colab-badge.svg\" alt=\"Open In Colab\"/></a>"
      ]
    },
    {
      "cell_type": "code",
      "execution_count": null,
      "metadata": {
        "id": "0-L7tjbi2xsW"
      },
      "outputs": [],
      "source": [
        "class Tree():\n",
        "  def __init__(self, data):\n",
        "    self.data = data\n",
        "    self.parent = None\n",
        "    self.child = []\n",
        "\n",
        "  def addChildNode(self, node):\n",
        "    node.parent = self\n",
        "    self.child.append(node)\n",
        "\n",
        "  def addParentNode(self, node):\n",
        "    self.parent = node\n",
        "\n",
        "  def getLevel(self):\n",
        "    lvl = 0\n",
        "    parent = self.parent\n",
        "    \n",
        "    while parent:\n",
        "      lvl += 1\n",
        "      parent = parent.parent\n",
        "\n",
        "    return lvl\n",
        "        \n",
        "  def printTree(self):    \n",
        "    currNode = self\n",
        "    print(f\"{' ' * currNode.getLevel()*2}>{currNode.data}\")\n",
        "\n",
        "    children = currNode.child\n",
        "    while True:\n",
        "      for currNode in children:        \n",
        "        currNode.printTree()\n",
        "      break"
      ]
    },
    {
      "cell_type": "code",
      "source": [
        "fruits = Tree('Fruits')\n",
        "mango = Tree('Mango')\n",
        "apple = Tree('Apple')\n",
        "grapes = Tree('Grapes')\n",
        "\n",
        "fruits.addChildNode(mango)\n",
        "fruits.addChildNode(apple)\n",
        "fruits.addChildNode(grapes)\n",
        "\n",
        "green = Tree('Green')\n",
        "black = Tree('Black')\n",
        "grapes.addChildNode(green)\n",
        "grapes.addChildNode(black)\n",
        "\n",
        "fruits.printTree()"
      ],
      "metadata": {
        "colab": {
          "base_uri": "https://localhost:8080/"
        },
        "id": "rWyqzN2s3mzH",
        "outputId": "24e3e68c-283f-486a-c7b9-4c70c1594427"
      },
      "execution_count": null,
      "outputs": [
        {
          "output_type": "stream",
          "name": "stdout",
          "text": [
            ">Fruits\n",
            "  >Mango\n",
            "  >Apple\n",
            "  >Grapes\n",
            "    >Green\n",
            "    >Black\n"
          ]
        }
      ]
    },
    {
      "cell_type": "code",
      "source": [
        "class corp_tree(Tree):\n",
        "  def printTree(self, output=\"\"):    \n",
        "    currNode = self\n",
        "    data = currNode.data\n",
        "    if \"name\" in output:\n",
        "      data = currNode.data.split('(')[0].strip()\n",
        "    elif \"designation\" in output:\n",
        "      data = currNode.data.split('(')[1][:-1].strip()\n",
        "    \n",
        "    print(f\"{' ' * currNode.getLevel()*2}>{data}\")\n",
        "\n",
        "    children = currNode.child\n",
        "    while True:\n",
        "      for currNode in children:        \n",
        "        currNode.printTree(output)\n",
        "      break"
      ],
      "metadata": {
        "id": "YO0ylSaYBRCI"
      },
      "execution_count": null,
      "outputs": []
    },
    {
      "cell_type": "code",
      "source": [
        "ceo = corp_tree('Nilupul (CEO)')\n",
        "cto = corp_tree('Chinmay (CTO)')\n",
        "hr = corp_tree('Gels (HR Head)')\n",
        "infra = corp_tree('Vishwa (Infrastructure Head)')\n",
        "app_head = corp_tree('Aamir (Application Head)')\n",
        "rec = corp_tree('Peter (Recruiment Head)')\n",
        "policy = corp_tree('Peter (Policy Manager)')\n",
        "cloud = corp_tree('Dhaval (Cloud Manager)')\n",
        "app = corp_tree('Abhijit (App Manager)')"
      ],
      "metadata": {
        "id": "FeDGd8el4AzK"
      },
      "execution_count": null,
      "outputs": []
    },
    {
      "cell_type": "code",
      "source": [
        "ceo.addChildNode(cto)\n",
        "ceo.addChildNode(hr)\n",
        "\n",
        "cto.addChildNode(infra)\n",
        "cto.addChildNode(app_head)\n",
        "\n",
        "hr.addChildNode(rec)\n",
        "hr.addChildNode(policy)\n",
        "\n",
        "infra.addChildNode(cloud)\n",
        "infra.addChildNode(app)"
      ],
      "metadata": {
        "id": "Qo7wEqVYAX-4"
      },
      "execution_count": null,
      "outputs": []
    },
    {
      "cell_type": "code",
      "source": [
        "ceo.printTree(\"\")"
      ],
      "metadata": {
        "colab": {
          "base_uri": "https://localhost:8080/"
        },
        "id": "LKqY4_J4BB7I",
        "outputId": "9845bea2-f0b6-43fc-8079-846227f85205"
      },
      "execution_count": null,
      "outputs": [
        {
          "output_type": "stream",
          "name": "stdout",
          "text": [
            ">Nilupul (CEO)\n",
            "  >Chinmay (CTO)\n",
            "    >Vishwa (Infrastructure Head)\n",
            "      >Dhaval (Cloud Manager)\n",
            "      >Abhijit (App Manager)\n",
            "    >Aamir (Application Head)\n",
            "  >Gels (HR Head)\n",
            "    >Peter (Recruiment Head)\n",
            "    >Peter (Policy Manager)\n"
          ]
        }
      ]
    },
    {
      "cell_type": "code",
      "source": [
        "ceo.printTree(\"name\")"
      ],
      "metadata": {
        "colab": {
          "base_uri": "https://localhost:8080/"
        },
        "id": "Q1A9lWxXBGhv",
        "outputId": "5d10db59-9908-4d34-8596-685b35e6c1c3"
      },
      "execution_count": null,
      "outputs": [
        {
          "output_type": "stream",
          "name": "stdout",
          "text": [
            ">Nilupul\n",
            "  >Chinmay\n",
            "    >Vishwa\n",
            "      >Dhaval\n",
            "      >Abhijit\n",
            "    >Aamir\n",
            "  >Gels\n",
            "    >Peter\n",
            "    >Peter\n"
          ]
        }
      ]
    },
    {
      "cell_type": "code",
      "source": [
        "ceo.printTree(\"designation\")"
      ],
      "metadata": {
        "colab": {
          "base_uri": "https://localhost:8080/"
        },
        "id": "zvWAJuqvCzMg",
        "outputId": "0f3d98cc-3d25-43f9-b5a8-f1966274ec1e"
      },
      "execution_count": null,
      "outputs": [
        {
          "output_type": "stream",
          "name": "stdout",
          "text": [
            ">CEO\n",
            "  >CTO\n",
            "    >Infrastructure Head\n",
            "      >Cloud Manager\n",
            "      >App Manager\n",
            "    >Application Head\n",
            "  >HR Head\n",
            "    >Recruiment Head\n",
            "    >Policy Manager\n"
          ]
        }
      ]
    },
    {
      "cell_type": "code",
      "source": [
        "class places(Tree):\n",
        "  def printTree(self, level=\"\"):    \n",
        "    currNode = self\n",
        "    data = currNode.data\n",
        "    \n",
        "    if self.getLevel() <= level:  \n",
        "      print(f\"{' ' * currNode.getLevel()*2}>{data}\")\n",
        "\n",
        "    children = currNode.child\n",
        "    while True:\n",
        "      for currNode in children:        \n",
        "        currNode.printTree(level)\n",
        "      break"
      ],
      "metadata": {
        "id": "vGSifbj0C0g7"
      },
      "execution_count": null,
      "outputs": []
    },
    {
      "cell_type": "code",
      "source": [
        "globe = places('Global')\n",
        "ind = places('India')\n",
        "usa = places('USA')\n",
        "guj = places('Gujarat')\n",
        "kar = places('Karnataka')\n",
        "nj = places('New Jersey')\n",
        "cal = places('California')\n",
        "ahd = places('Ahmedabad')\n",
        "bar = places('Baroda')\n",
        "beng = places('Bengaluru')\n",
        "mys = places('Mysore')\n",
        "pri = places('Princeton')\n",
        "tre = places('Trenton')\n",
        "sf = places('San Francisco')\n",
        "pal = places('Palo Alto')\n",
        "mv = places('Mountain View')"
      ],
      "metadata": {
        "id": "75ZQJNU6DngR"
      },
      "execution_count": null,
      "outputs": []
    },
    {
      "cell_type": "code",
      "source": [
        "globe.addChildNode(ind)\n",
        "globe.addChildNode(usa)\n",
        "\n",
        "ind.addChildNode(guj)\n",
        "ind.addChildNode(kar)\n",
        "\n",
        "usa.addChildNode(nj)\n",
        "usa.addChildNode(cal)\n",
        "\n",
        "guj.addChildNode(ahd)\n",
        "guj.addChildNode(bar)\n",
        "\n",
        "kar.addChildNode(beng)\n",
        "kar.addChildNode(mys)\n",
        "\n",
        "nj.addChildNode(pri)\n",
        "nj.addChildNode(tre)\n",
        "\n",
        "cal.addChildNode(sf)\n",
        "cal.addChildNode(pal)\n",
        "cal.addChildNode(mv)"
      ],
      "metadata": {
        "id": "5gX7w2eNETo9"
      },
      "execution_count": null,
      "outputs": []
    },
    {
      "cell_type": "code",
      "source": [
        "globe.printTree(1)"
      ],
      "metadata": {
        "colab": {
          "base_uri": "https://localhost:8080/"
        },
        "id": "26Pb4dAQEuru",
        "outputId": "521a3fc2-1225-48f2-c783-80d424ea06eb"
      },
      "execution_count": null,
      "outputs": [
        {
          "output_type": "stream",
          "name": "stdout",
          "text": [
            ">Global\n",
            "  >India\n",
            "  >USA\n"
          ]
        }
      ]
    },
    {
      "cell_type": "code",
      "source": [
        "globe.printTree(2)"
      ],
      "metadata": {
        "colab": {
          "base_uri": "https://localhost:8080/"
        },
        "id": "3D-AxWIAE1mt",
        "outputId": "fad69006-0aa9-4e84-f05b-909ef3b56b7f"
      },
      "execution_count": null,
      "outputs": [
        {
          "output_type": "stream",
          "name": "stdout",
          "text": [
            ">Global\n",
            "  >India\n",
            "    >Gujarat\n",
            "    >Karnataka\n",
            "  >USA\n",
            "    >New Jersey\n",
            "    >California\n"
          ]
        }
      ]
    },
    {
      "cell_type": "code",
      "source": [
        "globe.printTree(3)"
      ],
      "metadata": {
        "id": "SYesG4z_E9Il",
        "outputId": "89799783-288d-4994-b75b-2ab7e8639bce",
        "colab": {
          "base_uri": "https://localhost:8080/"
        }
      },
      "execution_count": null,
      "outputs": [
        {
          "output_type": "stream",
          "name": "stdout",
          "text": [
            ">Global\n",
            "  >India\n",
            "    >Gujarat\n",
            "      >Ahmedabad\n",
            "      >Baroda\n",
            "    >Karnataka\n",
            "      >Bengaluru\n",
            "      >Mysore\n",
            "  >USA\n",
            "    >New Jersey\n",
            "      >Princeton\n",
            "      >Trenton\n",
            "    >California\n",
            "      >San Francisco\n",
            "      >Palo Alto\n",
            "      >Mountain View\n"
          ]
        }
      ]
    },
    {
      "cell_type": "code",
      "source": [
        ""
      ],
      "metadata": {
        "id": "Vz8D0Cs9E9lk"
      },
      "execution_count": null,
      "outputs": []
    }
  ]
}