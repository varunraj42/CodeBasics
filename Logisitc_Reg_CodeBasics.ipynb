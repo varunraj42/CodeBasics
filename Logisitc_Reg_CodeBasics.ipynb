{
  "nbformat": 4,
  "nbformat_minor": 0,
  "metadata": {
    "colab": {
      "name": "Logisitc_Reg_CodeBasics.ipynb",
      "provenance": [],
      "authorship_tag": "ABX9TyOxMx9t7Rl3leoM3fr5PwtX",
      "include_colab_link": true
    },
    "kernelspec": {
      "name": "python3",
      "display_name": "Python 3"
    },
    "language_info": {
      "name": "python"
    }
  },
  "cells": [
    {
      "cell_type": "markdown",
      "metadata": {
        "id": "view-in-github",
        "colab_type": "text"
      },
      "source": [
        "<a href=\"https://colab.research.google.com/github/varunraj42/CodeBasics/blob/DataScience/Logisitc_Reg_CodeBasics.ipynb\" target=\"_parent\"><img src=\"https://colab.research.google.com/assets/colab-badge.svg\" alt=\"Open In Colab\"/></a>"
      ]
    },
    {
      "cell_type": "code",
      "execution_count": 167,
      "metadata": {
        "id": "0JZKO-SaRRjn"
      },
      "outputs": [],
      "source": [
        "from sklearn.linear_model import LogisticRegression\n",
        "import matplotlib.pyplot as plt\n",
        "import pandas as pd\n",
        "import numpy as np\n",
        "import os\n",
        "%matplotlib inline"
      ]
    },
    {
      "cell_type": "code",
      "source": [
        "from google.colab import drive"
      ],
      "metadata": {
        "id": "cG3VAp6aRjXq"
      },
      "execution_count": 82,
      "outputs": []
    },
    {
      "cell_type": "code",
      "source": [
        "drive.mount('/content/gdrive')"
      ],
      "metadata": {
        "colab": {
          "base_uri": "https://localhost:8080/"
        },
        "id": "WOFSK6EcePHd",
        "outputId": "ae0131f3-b623-402f-c911-0fe0c4431650"
      },
      "execution_count": 83,
      "outputs": [
        {
          "output_type": "stream",
          "name": "stdout",
          "text": [
            "Drive already mounted at /content/gdrive; to attempt to forcibly remount, call drive.mount(\"/content/gdrive\", force_remount=True).\n"
          ]
        }
      ]
    },
    {
      "cell_type": "code",
      "source": [
        "os.chdir('/content/gdrive/MyDrive/')\n",
        "# os.makedirs('CodeBasics')\n",
        "os.listdir('CodeBasics')\n",
        "os.chdir('/content/gdrive/MyDrive/CodeBasics')"
      ],
      "metadata": {
        "id": "_lO6o78keSvr"
      },
      "execution_count": 84,
      "outputs": []
    },
    {
      "cell_type": "code",
      "source": [
        "data_file = 'HR_comma_sep.csv'"
      ],
      "metadata": {
        "id": "MecZYFC4eleL"
      },
      "execution_count": 85,
      "outputs": []
    },
    {
      "cell_type": "code",
      "source": [
        "data = pd.read_csv(data_file, header=0)\n",
        "data.head()"
      ],
      "metadata": {
        "colab": {
          "base_uri": "https://localhost:8080/",
          "height": 206
        },
        "id": "KwvgcLEgfmP8",
        "outputId": "75b58fc7-5da3-4027-a89e-b73e2756686e"
      },
      "execution_count": 86,
      "outputs": [
        {
          "output_type": "execute_result",
          "data": {
            "text/html": [
              "\n",
              "  <div id=\"df-54422d5a-65c4-4090-9555-34f34b188ac5\">\n",
              "    <div class=\"colab-df-container\">\n",
              "      <div>\n",
              "<style scoped>\n",
              "    .dataframe tbody tr th:only-of-type {\n",
              "        vertical-align: middle;\n",
              "    }\n",
              "\n",
              "    .dataframe tbody tr th {\n",
              "        vertical-align: top;\n",
              "    }\n",
              "\n",
              "    .dataframe thead th {\n",
              "        text-align: right;\n",
              "    }\n",
              "</style>\n",
              "<table border=\"1\" class=\"dataframe\">\n",
              "  <thead>\n",
              "    <tr style=\"text-align: right;\">\n",
              "      <th></th>\n",
              "      <th>satisfaction_level</th>\n",
              "      <th>last_evaluation</th>\n",
              "      <th>number_project</th>\n",
              "      <th>average_montly_hours</th>\n",
              "      <th>time_spend_company</th>\n",
              "      <th>Work_accident</th>\n",
              "      <th>left</th>\n",
              "      <th>promotion_last_5years</th>\n",
              "      <th>Department</th>\n",
              "      <th>salary</th>\n",
              "    </tr>\n",
              "  </thead>\n",
              "  <tbody>\n",
              "    <tr>\n",
              "      <th>0</th>\n",
              "      <td>0.38</td>\n",
              "      <td>0.53</td>\n",
              "      <td>2</td>\n",
              "      <td>157</td>\n",
              "      <td>3</td>\n",
              "      <td>0</td>\n",
              "      <td>1</td>\n",
              "      <td>0</td>\n",
              "      <td>sales</td>\n",
              "      <td>low</td>\n",
              "    </tr>\n",
              "    <tr>\n",
              "      <th>1</th>\n",
              "      <td>0.80</td>\n",
              "      <td>0.86</td>\n",
              "      <td>5</td>\n",
              "      <td>262</td>\n",
              "      <td>6</td>\n",
              "      <td>0</td>\n",
              "      <td>1</td>\n",
              "      <td>0</td>\n",
              "      <td>sales</td>\n",
              "      <td>medium</td>\n",
              "    </tr>\n",
              "    <tr>\n",
              "      <th>2</th>\n",
              "      <td>0.11</td>\n",
              "      <td>0.88</td>\n",
              "      <td>7</td>\n",
              "      <td>272</td>\n",
              "      <td>4</td>\n",
              "      <td>0</td>\n",
              "      <td>1</td>\n",
              "      <td>0</td>\n",
              "      <td>sales</td>\n",
              "      <td>medium</td>\n",
              "    </tr>\n",
              "    <tr>\n",
              "      <th>3</th>\n",
              "      <td>0.72</td>\n",
              "      <td>0.87</td>\n",
              "      <td>5</td>\n",
              "      <td>223</td>\n",
              "      <td>5</td>\n",
              "      <td>0</td>\n",
              "      <td>1</td>\n",
              "      <td>0</td>\n",
              "      <td>sales</td>\n",
              "      <td>low</td>\n",
              "    </tr>\n",
              "    <tr>\n",
              "      <th>4</th>\n",
              "      <td>0.37</td>\n",
              "      <td>0.52</td>\n",
              "      <td>2</td>\n",
              "      <td>159</td>\n",
              "      <td>3</td>\n",
              "      <td>0</td>\n",
              "      <td>1</td>\n",
              "      <td>0</td>\n",
              "      <td>sales</td>\n",
              "      <td>low</td>\n",
              "    </tr>\n",
              "  </tbody>\n",
              "</table>\n",
              "</div>\n",
              "      <button class=\"colab-df-convert\" onclick=\"convertToInteractive('df-54422d5a-65c4-4090-9555-34f34b188ac5')\"\n",
              "              title=\"Convert this dataframe to an interactive table.\"\n",
              "              style=\"display:none;\">\n",
              "        \n",
              "  <svg xmlns=\"http://www.w3.org/2000/svg\" height=\"24px\"viewBox=\"0 0 24 24\"\n",
              "       width=\"24px\">\n",
              "    <path d=\"M0 0h24v24H0V0z\" fill=\"none\"/>\n",
              "    <path d=\"M18.56 5.44l.94 2.06.94-2.06 2.06-.94-2.06-.94-.94-2.06-.94 2.06-2.06.94zm-11 1L8.5 8.5l.94-2.06 2.06-.94-2.06-.94L8.5 2.5l-.94 2.06-2.06.94zm10 10l.94 2.06.94-2.06 2.06-.94-2.06-.94-.94-2.06-.94 2.06-2.06.94z\"/><path d=\"M17.41 7.96l-1.37-1.37c-.4-.4-.92-.59-1.43-.59-.52 0-1.04.2-1.43.59L10.3 9.45l-7.72 7.72c-.78.78-.78 2.05 0 2.83L4 21.41c.39.39.9.59 1.41.59.51 0 1.02-.2 1.41-.59l7.78-7.78 2.81-2.81c.8-.78.8-2.07 0-2.86zM5.41 20L4 18.59l7.72-7.72 1.47 1.35L5.41 20z\"/>\n",
              "  </svg>\n",
              "      </button>\n",
              "      \n",
              "  <style>\n",
              "    .colab-df-container {\n",
              "      display:flex;\n",
              "      flex-wrap:wrap;\n",
              "      gap: 12px;\n",
              "    }\n",
              "\n",
              "    .colab-df-convert {\n",
              "      background-color: #E8F0FE;\n",
              "      border: none;\n",
              "      border-radius: 50%;\n",
              "      cursor: pointer;\n",
              "      display: none;\n",
              "      fill: #1967D2;\n",
              "      height: 32px;\n",
              "      padding: 0 0 0 0;\n",
              "      width: 32px;\n",
              "    }\n",
              "\n",
              "    .colab-df-convert:hover {\n",
              "      background-color: #E2EBFA;\n",
              "      box-shadow: 0px 1px 2px rgba(60, 64, 67, 0.3), 0px 1px 3px 1px rgba(60, 64, 67, 0.15);\n",
              "      fill: #174EA6;\n",
              "    }\n",
              "\n",
              "    [theme=dark] .colab-df-convert {\n",
              "      background-color: #3B4455;\n",
              "      fill: #D2E3FC;\n",
              "    }\n",
              "\n",
              "    [theme=dark] .colab-df-convert:hover {\n",
              "      background-color: #434B5C;\n",
              "      box-shadow: 0px 1px 3px 1px rgba(0, 0, 0, 0.15);\n",
              "      filter: drop-shadow(0px 1px 2px rgba(0, 0, 0, 0.3));\n",
              "      fill: #FFFFFF;\n",
              "    }\n",
              "  </style>\n",
              "\n",
              "      <script>\n",
              "        const buttonEl =\n",
              "          document.querySelector('#df-54422d5a-65c4-4090-9555-34f34b188ac5 button.colab-df-convert');\n",
              "        buttonEl.style.display =\n",
              "          google.colab.kernel.accessAllowed ? 'block' : 'none';\n",
              "\n",
              "        async function convertToInteractive(key) {\n",
              "          const element = document.querySelector('#df-54422d5a-65c4-4090-9555-34f34b188ac5');\n",
              "          const dataTable =\n",
              "            await google.colab.kernel.invokeFunction('convertToInteractive',\n",
              "                                                     [key], {});\n",
              "          if (!dataTable) return;\n",
              "\n",
              "          const docLinkHtml = 'Like what you see? Visit the ' +\n",
              "            '<a target=\"_blank\" href=https://colab.research.google.com/notebooks/data_table.ipynb>data table notebook</a>'\n",
              "            + ' to learn more about interactive tables.';\n",
              "          element.innerHTML = '';\n",
              "          dataTable['output_type'] = 'display_data';\n",
              "          await google.colab.output.renderOutput(dataTable, element);\n",
              "          const docLink = document.createElement('div');\n",
              "          docLink.innerHTML = docLinkHtml;\n",
              "          element.appendChild(docLink);\n",
              "        }\n",
              "      </script>\n",
              "    </div>\n",
              "  </div>\n",
              "  "
            ],
            "text/plain": [
              "   satisfaction_level  last_evaluation  ...  Department  salary\n",
              "0                0.38             0.53  ...       sales     low\n",
              "1                0.80             0.86  ...       sales  medium\n",
              "2                0.11             0.88  ...       sales  medium\n",
              "3                0.72             0.87  ...       sales     low\n",
              "4                0.37             0.52  ...       sales     low\n",
              "\n",
              "[5 rows x 10 columns]"
            ]
          },
          "metadata": {},
          "execution_count": 86
        }
      ]
    },
    {
      "cell_type": "markdown",
      "source": [
        "# Attrition Stats. Based on Total Projects"
      ],
      "metadata": {
        "id": "rDCaj8Ur9Baj"
      }
    },
    {
      "cell_type": "code",
      "source": [
        "total_projects = data.number_project.unique().tolist()\n",
        "total_projects.sort()\n",
        "data_left = [(len(data.loc[(data.number_project==total) & (data.left==1)])/len(data))*100 for total in total_projects]\n",
        "data_stay = [(len(data.loc[(data.number_project==total) & (data.left==0)])/len(data))*100 for total in total_projects]"
      ],
      "metadata": {
        "id": "SiedzJjI74Pw"
      },
      "execution_count": 262,
      "outputs": []
    },
    {
      "cell_type": "code",
      "source": [
        "X = np.arange(len(data_left))"
      ],
      "metadata": {
        "id": "9m3aP4aZ8pFu"
      },
      "execution_count": 263,
      "outputs": []
    },
    {
      "cell_type": "code",
      "source": [
        "plt.figure(figsize=(10, 5))\n",
        "plt.bar(X, data_left, color='red', width=0.25)\n",
        "plt.bar(X+0.25, data_stay, color='green', width=0.25)\n",
        "plt.xticks([i + 0.4 for i in range(len(total_projects))], total_projects)\n",
        "plt.ylabel('Employee Attrition (%) based on Projects completed')\n",
        "plt.legend(['Employees left', 'Employees Stayed'])"
      ],
      "metadata": {
        "colab": {
          "base_uri": "https://localhost:8080/",
          "height": 338
        },
        "id": "2iU7doMW8rBz",
        "outputId": "58b0cdeb-ebf3-42a1-d8cb-1400c7d5ac20"
      },
      "execution_count": 264,
      "outputs": [
        {
          "output_type": "execute_result",
          "data": {
            "text/plain": [
              "<matplotlib.legend.Legend at 0x7fd290183d50>"
            ]
          },
          "metadata": {},
          "execution_count": 264
        },
        {
          "output_type": "display_data",
          "data": {
            "image/png": "[encoded data removed]",
            "text/plain": [
              "<Figure size 720x360 with 1 Axes>"
            ]
          },
          "metadata": {
            "needs_background": "light"
          }
        }
      ]
    },
    {
      "cell_type": "markdown",
      "source": [
        "# Attrition Stats. Based on Tenure"
      ],
      "metadata": {
        "id": "sJJOhGOy4Umq"
      }
    },
    {
      "cell_type": "code",
      "source": [
        "tenure_cat = data.time_spend_company.unique().tolist()\n",
        "data_left = [(len(data.loc[(data.time_spend_company==tenure) & (data.left==1)])/len(data))*100 for tenure in tenure_cat]\n",
        "data_stay = [(len(data.loc[(data.time_spend_company==tenure) & (data.left==0)])/len(data))*100 for tenure in tenure_cat]"
      ],
      "metadata": {
        "id": "m26onwWThdo-"
      },
      "execution_count": 223,
      "outputs": []
    },
    {
      "cell_type": "code",
      "source": [
        "X = np.arange(len(data_left))"
      ],
      "metadata": {
        "id": "AwCDDh0O5Xqa"
      },
      "execution_count": 224,
      "outputs": []
    },
    {
      "cell_type": "code",
      "source": [
        "plt.figure(figsize=(10, 5))\n",
        "plt.bar(X, data_left, color='red', width=0.25)\n",
        "plt.bar(X+0.25, data_stay, color='green', width=0.25)\n",
        "plt.xticks([i + 0.4 for i in range(len(tenure_cat))], tenure_cat)\n",
        "plt.ylabel('Employee Attrition (%) based on Tenure')\n",
        "plt.legend(['Employees left', 'Employees Stayed'])"
      ],
      "metadata": {
        "colab": {
          "base_uri": "https://localhost:8080/",
          "height": 338
        },
        "id": "DeNBs8405Z82",
        "outputId": "ca5063fe-b112-4e0d-b929-2a1cf61eb626"
      },
      "execution_count": 225,
      "outputs": [
        {
          "output_type": "execute_result",
          "data": {
            "text/plain": [
              "<matplotlib.legend.Legend at 0x7fd290b5a350>"
            ]
          },
          "metadata": {},
          "execution_count": 225
        },
        {
          "output_type": "display_data",
          "data": {
            "image/png": "[encoded data removed]",
            "text/plain": [
              "<Figure size 720x360 with 1 Axes>"
            ]
          },
          "metadata": {
            "needs_background": "light"
          }
        }
      ]
    },
    {
      "cell_type": "markdown",
      "source": [
        "# Attrition Stats. Based on Salary"
      ],
      "metadata": {
        "id": "x-JwH5WX4SKr"
      }
    },
    {
      "cell_type": "code",
      "source": [
        "sal_ranges = data.salary.unique().tolist()\n",
        "data_left = [(len(data.loc[(data.salary==sal) & (data.left==1)])/len(data))*100 for sal in sal_ranges]\n",
        "data_stay = [(len(data.loc[(data.salary==sal) & (data.left==0)])/len(data))*100 for sal in sal_ranges]"
      ],
      "metadata": {
        "id": "M_4GVdgDlbIJ"
      },
      "execution_count": 226,
      "outputs": []
    },
    {
      "cell_type": "code",
      "source": [
        "X = np.arange(len(data_left))"
      ],
      "metadata": {
        "id": "cunF8DnsmNQ8"
      },
      "execution_count": 227,
      "outputs": []
    },
    {
      "cell_type": "code",
      "source": [
        "plt.figure(figsize=(10, 5))\n",
        "plt.bar(X, data_left, color='red', width=0.25)\n",
        "plt.bar(X+0.25, data_stay, color='green', width=0.25)\n",
        "plt.xticks([i + 0.4 for i in range(len(sal_ranges))], sal_ranges)\n",
        "plt.ylabel('Employee Attrition (%) based on Salary Range')\n",
        "plt.legend(['Employees left', 'Employees Stayed'])"
      ],
      "metadata": {
        "colab": {
          "base_uri": "https://localhost:8080/",
          "height": 338
        },
        "id": "F3baDphUlrlI",
        "outputId": "958c19a8-9187-4055-deb9-f83ee0f41402"
      },
      "execution_count": 240,
      "outputs": [
        {
          "output_type": "execute_result",
          "data": {
            "text/plain": [
              "<matplotlib.legend.Legend at 0x7fd2905fd710>"
            ]
          },
          "metadata": {},
          "execution_count": 240
        },
        {
          "output_type": "display_data",
          "data": {
            "image/png": "[encoded data removed]",
            "text/plain": [
              "<Figure size 720x360 with 1 Axes>"
            ]
          },
          "metadata": {
            "needs_background": "light"
          }
        }
      ]
    },
    {
      "cell_type": "markdown",
      "source": [
        "# Attrition Stats. Based on Promotion"
      ],
      "metadata": {
        "id": "rvyLTiVz4PSj"
      }
    },
    {
      "cell_type": "code",
      "source": [
        "promotion_cat = data.promotion_last_5years.unique().tolist()\n",
        "data_left = [(len(data.loc[(data.promotion_last_5years==promo) & (data.left==1)])/len(data))*100 for promo in promotion_cat]\n",
        "data_stay = [(len(data.loc[(data.promotion_last_5years==promo) & (data.left==0)])/len(data))*100 for promo in promotion_cat]"
      ],
      "metadata": {
        "id": "ewoM4phDoA-9"
      },
      "execution_count": 233,
      "outputs": []
    },
    {
      "cell_type": "code",
      "source": [
        "promotion_cat"
      ],
      "metadata": {
        "colab": {
          "base_uri": "https://localhost:8080/"
        },
        "id": "q4N8ce6D7AgD",
        "outputId": "e9f89772-6aaa-4d69-95a3-67416542bac6"
      },
      "execution_count": 234,
      "outputs": [
        {
          "output_type": "execute_result",
          "data": {
            "text/plain": [
              "[0, 1]"
            ]
          },
          "metadata": {},
          "execution_count": 234
        }
      ]
    },
    {
      "cell_type": "code",
      "source": [
        "X = np.arange(len(data_left))"
      ],
      "metadata": {
        "id": "aeOPa8bE6wRC"
      },
      "execution_count": 236,
      "outputs": []
    },
    {
      "cell_type": "code",
      "source": [
        "plt.figure(figsize=(10, 5))\n",
        "plt.bar(X, data_left, color='red', width=0.25)\n",
        "plt.bar(X+0.25, data_stay, color='green', width=0.25)\n",
        "promotion_cat = ['Not Promoted', 'Promoted']\n",
        "plt.xticks([i + 0.4 for i in range(len(promotion_cat))], promotion_cat)\n",
        "plt.ylabel('Employee Attrition (%) based on Promotion Given')\n",
        "plt.legend(['Employees left', 'Employees Stayed'])"
      ],
      "metadata": {
        "colab": {
          "base_uri": "https://localhost:8080/",
          "height": 338
        },
        "id": "bmOlZvH9oG4b",
        "outputId": "87d24b22-a255-4ecd-a4c8-ade78f7a6e55"
      },
      "execution_count": 241,
      "outputs": [
        {
          "output_type": "execute_result",
          "data": {
            "text/plain": [
              "<matplotlib.legend.Legend at 0x7fd290583c90>"
            ]
          },
          "metadata": {},
          "execution_count": 241
        },
        {
          "output_type": "display_data",
          "data": {
            "image/png": "[encoded data removed]",
            "text/plain": [
              "<Figure size 720x360 with 1 Axes>"
            ]
          },
          "metadata": {
            "needs_background": "light"
          }
        }
      ]
    },
    {
      "cell_type": "markdown",
      "source": [
        "# Attrition Rate by Department"
      ],
      "metadata": {
        "id": "v0Vva0aG4MKL"
      }
    },
    {
      "cell_type": "code",
      "source": [
        "data_left = data.loc[data.left==1]\n",
        "data.Department.unique()"
      ],
      "metadata": {
        "colab": {
          "base_uri": "https://localhost:8080/"
        },
        "id": "ohAxC7QvpB78",
        "outputId": "3e4d95d5-48e2-4685-a8a7-4ae9c7bbfba3"
      },
      "execution_count": 242,
      "outputs": [
        {
          "output_type": "execute_result",
          "data": {
            "text/plain": [
              "array(['sales', 'accounting', 'hr', 'technical', 'support', 'management',\n",
              "       'IT', 'product_mng', 'marketing', 'RandD'], dtype=object)"
            ]
          },
          "metadata": {},
          "execution_count": 242
        }
      ]
    },
    {
      "cell_type": "markdown",
      "source": [
        "# Attrition Rate between Departments"
      ],
      "metadata": {
        "id": "ABvfx6Lg4IL_"
      }
    },
    {
      "cell_type": "code",
      "source": [
        "depts = data.Department.unique().tolist()\n",
        "dept_left = [(len(data.loc[(data.Department==dept) & (data.left==1)])/len(data))*100 for dept in data.Department.unique()]\n",
        "dept_stay = [(len(data.loc[(data.Department==dept) & (data.left==0)])/len(data))*100 for dept in data.Department.unique()]"
      ],
      "metadata": {
        "id": "L4_I4SFepjVq"
      },
      "execution_count": 243,
      "outputs": []
    },
    {
      "cell_type": "code",
      "source": [
        "X = np.arange(len(dept_left))"
      ],
      "metadata": {
        "id": "AImMPVH1wsOb"
      },
      "execution_count": 244,
      "outputs": []
    },
    {
      "cell_type": "code",
      "source": [
        "plt.figure(figsize=(15, 8))\n",
        "plt.bar(X, dept_left, color='red', width=0.25)\n",
        "plt.bar(X+0.25, dept_stay, color='green', width=0.25)\n",
        "plt.xticks([i + 0.4 for i in range(len(depts))], depts)\n",
        "plt.ylabel('Employee Attrition (%) between department')\n",
        "plt.legend(['Employees left', 'Employees Stayed'])"
      ],
      "metadata": {
        "colab": {
          "base_uri": "https://localhost:8080/",
          "height": 502
        },
        "id": "fgX3nbs0s0A9",
        "outputId": "895b20a7-d32b-497d-fdf6-18879e6d86cd"
      },
      "execution_count": 245,
      "outputs": [
        {
          "output_type": "execute_result",
          "data": {
            "text/plain": [
              "<matplotlib.legend.Legend at 0x7fd2906c6cd0>"
            ]
          },
          "metadata": {},
          "execution_count": 245
        },
        {
          "output_type": "display_data",
          "data": {
            "image/png": "[encoded data removed]",
            "text/plain": [
              "<Figure size 1080x576 with 1 Axes>"
            ]
          },
          "metadata": {
            "needs_background": "light"
          }
        }
      ]
    },
    {
      "cell_type": "code",
      "source": [
        "# Attrition Rate Within Departments"
      ],
      "metadata": {
        "id": "0DhuW1yphMj2"
      },
      "execution_count": 246,
      "outputs": []
    },
    {
      "cell_type": "code",
      "source": [
        "dept_dict = dict()\n",
        "for dept in data.Department.unique():\n",
        "  dept_dict[dept] = len(data.loc[data.Department == dept])\n",
        "dept_dict"
      ],
      "metadata": {
        "colab": {
          "base_uri": "https://localhost:8080/"
        },
        "id": "bUPz9-c52UqI",
        "outputId": "f5f38e80-1a35-4d12-dbe1-420f8d75fb35"
      },
      "execution_count": 247,
      "outputs": [
        {
          "output_type": "execute_result",
          "data": {
            "text/plain": [
              "{'IT': 1227,\n",
              " 'RandD': 787,\n",
              " 'accounting': 767,\n",
              " 'hr': 739,\n",
              " 'management': 630,\n",
              " 'marketing': 858,\n",
              " 'product_mng': 902,\n",
              " 'sales': 4140,\n",
              " 'support': 2229,\n",
              " 'technical': 2720}"
            ]
          },
          "metadata": {},
          "execution_count": 247
        }
      ]
    },
    {
      "cell_type": "code",
      "source": [
        "dept_left = [round((len(data.loc[(data.Department==dept) & (data.left==1)])/dept_dict[dept])*100, 0) for dept in data.Department.unique()]\n",
        "dept_stay = [round((len(data.loc[(data.Department==dept) & (data.left==0)])/dept_dict[dept])*100, 0) for dept in data.Department.unique()]"
      ],
      "metadata": {
        "id": "U54mWo4V2FSr"
      },
      "execution_count": 248,
      "outputs": []
    },
    {
      "cell_type": "code",
      "source": [
        "plt.figure(figsize=(15, 8))\n",
        "plt.bar(X, dept_left, color='red', width=0.25)\n",
        "plt.bar(X+0.25, dept_stay, color='green', width=0.25)\n",
        "plt.xticks([i + 0.4 for i in range(len(depts))], depts)\n",
        "plt.ylabel('Employee Attrition (%) Within department')\n",
        "plt.legend(['Employees left', 'Employees Stayed'])"
      ],
      "metadata": {
        "colab": {
          "base_uri": "https://localhost:8080/",
          "height": 502
        },
        "id": "FR6DpT6G2VOI",
        "outputId": "28bf438f-bf69-4000-afd0-f5be33b5aba7"
      },
      "execution_count": 249,
      "outputs": [
        {
          "output_type": "execute_result",
          "data": {
            "text/plain": [
              "<matplotlib.legend.Legend at 0x7fd290446c50>"
            ]
          },
          "metadata": {},
          "execution_count": 249
        },
        {
          "output_type": "display_data",
          "data": {
            "image/png": "[encoded data removed]",
            "text/plain": [
              "<Figure size 1080x576 with 1 Axes>"
            ]
          },
          "metadata": {
            "needs_background": "light"
          }
        }
      ]
    },
    {
      "cell_type": "code",
      "source": [
        ""
      ],
      "metadata": {
        "id": "dSS67y2l2YlG"
      },
      "execution_count": null,
      "outputs": []
    }
  ]
}