{
  "nbformat": 4,
  "nbformat_minor": 0,
  "metadata": {
    "colab": {
      "name": "LinkList_codeBasics.ipynb",
      "provenance": [],
      "authorship_tag": "ABX9TyPEVEAF8wVj0qBjYcFrYYof",
      "include_colab_link": true
    },
    "kernelspec": {
      "name": "python3",
      "display_name": "Python 3"
    },
    "language_info": {
      "name": "python"
    }
  },
  "cells": [
    {
      "cell_type": "markdown",
      "metadata": {
        "id": "view-in-github",
        "colab_type": "text"
      },
      "source": [
        "<a href=\"https://colab.research.google.com/github/varunraj42/CodeBasics/blob/DataStructures/LinkList_codeBasics.ipynb\" target=\"_parent\"><img src=\"https://colab.research.google.com/assets/colab-badge.svg\" alt=\"Open In Colab\"/></a>"
      ]
    },
    {
      "cell_type": "code",
      "execution_count": null,
      "metadata": {
        "id": "fFNer6W7DDSO"
      },
      "outputs": [],
      "source": [
        "class Node():\n",
        "  def __init__(self, data=None, next=None, prev=None):\n",
        "    self.data = data\n",
        "    self.next = next\n",
        "    self.prev = prev"
      ]
    },
    {
      "cell_type": "code",
      "source": [
        "class LL():\n",
        "  def __init__(self):\n",
        "    self.head = None\n",
        "\n",
        "  def size(self):\n",
        "    size = 0\n",
        "    head = self.head\n",
        "    while head:\n",
        "      size +=1\n",
        "      head = head.next\n",
        "    return size\n",
        "\n",
        "\n",
        "  def add_node_at_end(self, data):\n",
        "    if self.head is None:\n",
        "      self.head = Node(data)\n",
        "    else:\n",
        "      head = self.head      \n",
        "\n",
        "      while head.next:        \n",
        "        head = head.next\n",
        "      head.next = Node(data)\n",
        "\n",
        "  \n",
        "  def add_node_at_start(self, data):\n",
        "    head = self.head\n",
        "    if head is not None:      \n",
        "      self.head = Node(data, head)\n",
        "    else:\n",
        "      self.head = Node(data)  \n",
        "  \n",
        "  \n",
        "  def add_node_at_index(self, data, index):\n",
        "    if index < 0 or index > self.size():\n",
        "      return \"Invalid Index Position\"\n",
        "\n",
        "    curr_node = self.head\n",
        "    counter = 0     \n",
        "    while counter != index:      \n",
        "      curr_node = curr_node.next      \n",
        "      counter +=1\n",
        "    \n",
        "    print(f\"Adding {data} after {curr_node.data}\")\n",
        "    new_node = Node(data, curr_node.next)\n",
        "    curr_node.next = new_node\n",
        "\n",
        "  \n",
        "  def remove_node_at_index(self, index):\n",
        "    if index < 0 or index > self.size()-1:\n",
        "      return \"Invalid Index Position\"\n",
        "\n",
        "    head = self.head\n",
        "    counter = 0\n",
        "    \n",
        "    if index == 0:      \n",
        "      head = head.next      \n",
        "      self.head = head\n",
        "      return\n",
        "    \n",
        "    while counter != index-1:\n",
        "      head = head.next\n",
        "      counter += 1\n",
        "    head.next = head.next.next\n",
        "\n",
        "\n",
        "  def display_ll(self):\n",
        "    ll = ''\n",
        "    head = self.head\n",
        "\n",
        "    while head:\n",
        "      ll += str(head.data) + '-->'\n",
        "      head = head.next\n",
        "    return ll\n",
        "\n",
        "  def insert_after_value(self, value_after, value_to_insert):\n",
        "    head = self.head\n",
        "    while head and not head.data == value_after:\n",
        "      head = head.next\n",
        "    \n",
        "    new_node = Node(value_to_insert, head.next)\n",
        "    head.next = new_node\n",
        "\n",
        "  \n",
        "  def remove_by_value(self, value_to_remove,):\n",
        "    head = self.head\n",
        "    index_to_remove = 0\n",
        "\n",
        "    while head and not head.data == value_to_remove:\n",
        "      head = head.next\n",
        "      index_to_remove += 1  \n",
        "    self.remove_node_at_index(index_to_remove)\n",
        "    \n",
        "\n",
        "  def insert_values(self, values):\n",
        "    self.head = Node(values[0], None)\n",
        "    curr_node = self.head\n",
        "\n",
        "    for val in values[1:]:\n",
        "      new_node = Node(val, None)\n",
        "      curr_node.next = new_node\n",
        "      curr_node = curr_node.next\n",
        "            \n",
        "    "
      ],
      "metadata": {
        "id": "Wnl3UhYoDXkl"
      },
      "execution_count": null,
      "outputs": []
    },
    {
      "cell_type": "code",
      "source": [
        "ll1 = LL()\n",
        "ll1.add_node_at_end(1)\n",
        "ll1.add_node_at_end(2)\n",
        "ll1.add_node_at_end(4)\n",
        "ll1.add_node_at_start(0)\n",
        "ll1.add_node_at_end(5)\n",
        "ll1.add_node_at_index(3,2)\n",
        "ll1.insert_after_value(5,6)\n",
        "ll1.remove_by_value(3)\n",
        "print(ll1.display_ll())\n",
        "ll2 = LL()\n",
        "ll2.insert_values([\"banana\",\"mango\",\"grapes\",\"orange\"])\n",
        "print(ll2.display_ll())\n",
        "ll2.insert_after_value(\"mango\",\"apple\")\n",
        "print(ll2.display_ll())\n",
        "ll2.remove_by_value(\"orange\")\n",
        "print(ll2.display_ll())\n",
        "ll2.remove_by_value(\"figs\")\n",
        "print(ll2.display_ll())\n",
        "ll2.remove_by_value(\"banana\")\n",
        "ll2.remove_by_value(\"mango\")\n",
        "ll2.remove_by_value(\"apple\")\n",
        "ll2.remove_by_value(\"grapes\")\n",
        "print(ll2.display_ll())"
      ],
      "metadata": {
        "colab": {
          "base_uri": "https://localhost:8080/"
        },
        "id": "hUBXx6nEHK_H",
        "outputId": "168da7ff-d01e-4e42-aef4-87e8480bb336"
      },
      "execution_count": null,
      "outputs": [
        {
          "output_type": "stream",
          "name": "stdout",
          "text": [
            "Adding 3 after 2\n",
            "0-->1-->2-->4-->5-->6-->\n",
            "banana-->mango-->grapes-->orange-->\n",
            "banana-->mango-->apple-->grapes-->orange-->\n",
            "banana-->mango-->apple-->grapes-->\n",
            "banana-->mango-->apple-->grapes-->\n",
            "\n"
          ]
        }
      ]
    },
    {
      "cell_type": "code",
      "source": [
        "class DLL():\n",
        "  def __init__(self):\n",
        "    self.head = None\n",
        "\n",
        "  def size(self):\n",
        "    size = 0\n",
        "    head = self.head\n",
        "    while head:\n",
        "      size +=1\n",
        "      head = head.next\n",
        "    return size\n",
        "\n",
        "\n",
        "  def add_node_at_end(self, data):\n",
        "    if self.head is None:\n",
        "      self.head = Node(data)\n",
        "    else:\n",
        "      head = self.head      \n",
        "\n",
        "      while head.next:\n",
        "        prev = head.prev        \n",
        "        head = head.next\n",
        "      head.next = Node(data, prev=prev)\n",
        "\n",
        "  \n",
        "  def add_node_at_start(self, data):\n",
        "    head = self.head\n",
        "    if head is not None:      \n",
        "      self.head = Node(data, next=head)\n",
        "    else:\n",
        "      self.head = Node(data)  \n",
        "  \n",
        "  \n",
        "  def add_node_at_index(self, data, index):\n",
        "    if index < 0 or index > self.size():\n",
        "      return \"Invalid Index Position\"\n",
        "\n",
        "    curr_node = self.head\n",
        "    counter = 0\n",
        "    \n",
        "    if index == 0:\n",
        "      self.head = Node(data, next=curr_node)\n",
        "         \n",
        "    while counter != index:\n",
        "      prev_node = curr_node.prev      \n",
        "      curr_node = curr_node.next      \n",
        "      counter +=1\n",
        "    \n",
        "    print(f\"Adding {data} after {curr_node.data}\")\n",
        "    new_node = Node(data, prev=prev_node, next=curr_node.next)\n",
        "    curr_node.next = new_node\n",
        "\n",
        "  \n",
        "  def remove_node_at_index(self, index):\n",
        "    if index < 0 or index > self.size()-1:\n",
        "      return \"Invalid Index Position\"\n",
        "\n",
        "    head = self.head\n",
        "    counter = 0\n",
        "    \n",
        "    if index == 0:      \n",
        "      head = head.next      \n",
        "      self.head = head\n",
        "      return\n",
        "    \n",
        "    while counter != index-1:\n",
        "      head = head.next\n",
        "      counter += 1\n",
        "    head.next = head.next.next\n",
        "\n",
        "\n",
        "  def display_dll(self, reverse=False):\n",
        "    ll = ''\n",
        "    head = self.head\n",
        "\n",
        "    while head:\n",
        "      ll += str(head.data) + '-->'      \n",
        "      prev = head.prev      \n",
        "      head = head.next     \n",
        "    \n",
        "    if not reverse:\n",
        "      return ll\n",
        "    else:\n",
        "      ll = ''      \n",
        "      tail = prev.next      \n",
        "      while tail:        \n",
        "        ll += str(tail.data) + '-->'\n",
        "        tail = tail.prev\n",
        "      \n",
        "      return ll\n",
        "\n",
        "  def insert_after_value(self, value_after, value_to_insert):\n",
        "    head = self.head\n",
        "    while head and not head.data == value_after:\n",
        "      prev = head.prev\n",
        "      head = head.next\n",
        "    \n",
        "    new_node = Node(value_to_insert, prev=prev, next=head.next)\n",
        "    head.next = new_node\n",
        "\n",
        "\n",
        "  \n",
        "  def remove_by_value(self, value_to_remove,):\n",
        "    head = self.head\n",
        "    index_to_remove = 0\n",
        "\n",
        "    while head and not head.data == value_to_remove:      \n",
        "      head = head.next\n",
        "      index_to_remove += 1  \n",
        "    self.remove_node_at_index(index_to_remove)\n",
        "    \n",
        "\n",
        "  def insert_values(self, values):\n",
        "    self.head = Node(values[0])\n",
        "    curr_node = self.head\n",
        "\n",
        "    for val in values[1:]:\n",
        "      new_node = Node(val, prev=curr_node, next=None)\n",
        "      curr_node.next = new_node\n",
        "      curr_node = curr_node.next\n",
        "            \n",
        "    "
      ],
      "metadata": {
        "id": "c5Wf3dRvHRV3"
      },
      "execution_count": null,
      "outputs": []
    },
    {
      "cell_type": "code",
      "source": [
        "dll = DLL()\n",
        "dll.insert_values([\"banana\",\"mango\",\"grapes\",\"orange\"])\n",
        "dll.display_dll()"
      ],
      "metadata": {
        "colab": {
          "base_uri": "https://localhost:8080/",
          "height": 35
        },
        "id": "nAFJNc6Ea06w",
        "outputId": "aa4e804a-a3e7-49a1-ccb7-a423a05dff5c"
      },
      "execution_count": null,
      "outputs": [
        {
          "output_type": "execute_result",
          "data": {
            "application/vnd.google.colaboratory.intrinsic+json": {
              "type": "string"
            },
            "text/plain": [
              "'banana-->mango-->grapes-->orange-->'"
            ]
          },
          "metadata": {},
          "execution_count": 135
        }
      ]
    },
    {
      "cell_type": "code",
      "source": [
        "dll.display_dll(reverse=True)"
      ],
      "metadata": {
        "colab": {
          "base_uri": "https://localhost:8080/",
          "height": 35
        },
        "id": "n5sOoAx_cfoB",
        "outputId": "afa64535-eb87-41a6-e496-3b68e7ce6c48"
      },
      "execution_count": null,
      "outputs": [
        {
          "output_type": "execute_result",
          "data": {
            "application/vnd.google.colaboratory.intrinsic+json": {
              "type": "string"
            },
            "text/plain": [
              "'orange-->grapes-->mango-->banana-->'"
            ]
          },
          "metadata": {},
          "execution_count": 136
        }
      ]
    },
    {
      "cell_type": "code",
      "source": [
        ""
      ],
      "metadata": {
        "id": "WJrkuYcYe_bq"
      },
      "execution_count": null,
      "outputs": []
    }
  ]
}